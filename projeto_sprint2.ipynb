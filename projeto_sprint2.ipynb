{
 "cells": [
  {
   "cell_type": "markdown",
   "metadata": {},
   "source": [
    "<div>\n",
    "Olá, Heury!\n",
    "\n",
    "Meu nome é Luiz. Fico feliz em revisar seu projeto. Ao longo do texto farei algumas observações sobre melhorias no código e também farei comentários sobre suas percepções sobre o assunto. Estarei aberto a feedbacks e discussões sobre o tema.\n",
    "\n",
    "**Peço que mantenha e não altere os comentários que eu fizer por aqui para que possamos nos localizar posteriormente, ok?**\n",
    "\n",
    "Mais uma coisa, vamos utilizar um código de cores para você entender o meu feedback no seu notebook. Funciona assim:\n",
    "\n",
    "<div class=\"alert alert-block alert-success\">\n",
    "<b> Comentário do revisor: </b> <a class=\"tocSkip\"></a>\n",
    "\n",
    "Sucesso. Tudo foi feito corretamente.\n",
    "</div>\n",
    "\n",
    "<div class=\"alert alert-block alert-warning\">\n",
    "<b>Comentário do revisor: </b> <a class=\"tocSkip\"></a>\n",
    "\n",
    "Alerta não crítico, mas que pode ser corrigido para melhoria geral no seu código/análise.\n",
    "</div>\n",
    "\n",
    "<div class=\"alert alert-block alert-danger\">\n",
    "\n",
    "<b>Comentário do revisor: </b> <a class=\"tocSkip\"></a>\n",
    "    \n",
    "Erro que precisa ser arrumado, caso contrário seu projeto **não** será aceito.\n",
    "</div>\n",
    "\n",
    "Você pode interagir comigo através dessa célula:\n",
    "<div class=\"alert alert-block alert-info\">\n",
    "<b>Resposta do Aluno.</b> <a class=\"tocSkip\"></a>\n",
    "</div>"
   ]
  },
  {
   "cell_type": "markdown",
   "metadata": {},
   "source": [
    "<div class=\"alert alert-block alert-success\">\n",
    "<b> Comentário geral do revisor</b> <a class=\"tocSkip\"></a>\n",
    "\n",
    "Obrigado por enviar o seu projeto e pelo esforço de chegar até aqui. Essa versão do seu trabalho ficou muito boa! Espero que as sugestões sejam relevantes para projetos futuros.\n",
    "    \n",
    "<br>\n",
    "Te desejo uma jornada de muito sucesso e aprendizado.\n",
    "    \n",
    "<br>   \n",
    "    \n",
    "Qualquer dúvida, pode contar comigo.   \n",
    "    \n",
    "<br>  \n",
    "    \n",
    "**Até breve!**\n",
    "\n",
    "</div>"
   ]
  },
  {
   "cell_type": "markdown",
   "metadata": {
    "id": "E0vqbgi9ay0H"
   },
   "source": [
    "# Se liga na música"
   ]
  },
  {
   "cell_type": "markdown",
   "metadata": {
    "id": "fhq_eyov_Zcs"
   },
   "source": [
    "# Conteúdo <a id='back'></a>\n",
    "\n",
    "* [Introdução](#intro)\n",
    "* [Etapa 1. Visão geral dos dados](#data_review)\n",
    "    * [Conclusões](#data_review_conclusions)\n",
    "* [Etapa 2. Pré-processamento de dados](#data_preprocessing)\n",
    "    * [2.1 Estilo do cabeçalho](#header_style)\n",
    "    * [2.2 Valores ausentes](#missing_values)\n",
    "    * [2.3 Duplicados](#duplicates)\n",
    "    * [2.4 Conclusões](#data_preprocessing_conclusions)\n",
    "* [Etapa 3. Teste da hipótese](#hypothesis)\n",
    "    * [3.1 Hipótese 1: atividade dos usuários nas duas cidades](#activity)\n",
    "* [Conclusões](#end)"
   ]
  },
  {
   "cell_type": "markdown",
   "metadata": {
    "id": "VUC88oWjTJw2"
   },
   "source": [
    "## Introdução <a id='intro'></a>\n",
    "O trabalho de um analista é analisar dados para obter percepções valiosas dos dados e tomar decisões fundamentadas neles. Esse processo consiste em várias etapas, como visão geral dos dados, pré-processamento dos dados e testes de hipóteses.\n",
    "\n",
    "Sempre que fazemos uma pesquisa, precisamos formular uma hipótese que depois poderemos testar. Às vezes nós aceitamos essas hipóteses; outras vezes, nós as rejeitamos. Para fazer as escolhas certas, um negócio deve ser capaz de entender se está fazendo as suposições certas ou não.\n",
    "\n",
    "Neste projeto, você vai comparar as preferências musicais dos habitantes de Springfild e Shelbyville. Você vai estudar os dados de um serviço de streaming de música online para testar a hipótese apresentada abaixo e comparar o comportamento dos usuários dessas duas cidades.\n",
    "\n",
    "### Objetivo:\n",
    "Teste a hipótese:\n",
    "1. A atividade dos usuários é diferente dependendo do dia da semana e da cidade.\n",
    "\n",
    "\n",
    "### Etapas\n",
    "Os dados sobre o comportamento do usuário são armazenados no arquivo `/datasets/music_project_en.csv`. Não há informações sobre a qualidade dos dados, então será necessário examiná-los antes de testar a hipótese.\n",
    "\n",
    "Primeiro, você avaliará a qualidade dos dados e verá se seus problemas são significativos. Depois, durante o pré-processamento dos dados, você tentará tratar dos problemas mais críticos.\n",
    "\n",
    "O seu projeto consistirá em três etapas:\n",
    " 1. Visão geral dos dados\n",
    " 2. Pré-processamento de dados\n",
    " 3. Teste da hipótese\n",
    "\n",
    "\n",
    "\n",
    "\n",
    "\n",
    "\n"
   ]
  },
  {
   "cell_type": "markdown",
   "metadata": {
    "id": "hDt6pg-Rw-1U"
   },
   "source": [
    "[Voltar ao Índice](#back)"
   ]
  },
  {
   "cell_type": "markdown",
   "metadata": {
    "id": "Ml1hmfXC_Zcs"
   },
   "source": [
    "## Etapa 1. Visão geral dos dados <a id='data_review'></a>\n",
    "\n",
    "Abra os dados e examine-os."
   ]
  },
  {
   "cell_type": "markdown",
   "metadata": {
    "id": "57eAOGIz_Zcs"
   },
   "source": [
    "Você precisará da `pandas`, então, importe-a."
   ]
  },
  {
   "cell_type": "code",
   "execution_count": 76,
   "metadata": {
    "id": "AXN7PHPN_Zcs"
   },
   "outputs": [],
   "source": [
    "# importando pandas\n",
    "import pandas as pd"
   ]
  },
  {
   "cell_type": "markdown",
   "metadata": {
    "id": "SG23P8tt_Zcs"
   },
   "source": [
    "Leia o arquivo `music_project_en.csv` da pasta `/datasets/` e salve-o na variável `df`:"
   ]
  },
  {
   "cell_type": "code",
   "execution_count": 77,
   "metadata": {
    "id": "fFVu7vqh_Zct"
   },
   "outputs": [],
   "source": [
    "# lendo o arquivo e armazenando em df\n",
    "df = pd.read_csv('/datasets/music_project_en.csv')"
   ]
  },
  {
   "cell_type": "markdown",
   "metadata": {},
   "source": [
    "<div class=\"alert alert-block alert-success\">\n",
    "<b> Comentário do revisor: </b> <a class=\"tocSkip\"></a>\n",
    "\n",
    "O arquivo de dados foi carregado corretamente.\n",
    "</div>"
   ]
  },
  {
   "cell_type": "markdown",
   "metadata": {
    "id": "rDoOMd3uTqnZ"
   },
   "source": [
    "Imprima as primeiras 10 linhas da tabela:"
   ]
  },
  {
   "cell_type": "code",
   "execution_count": 78,
   "metadata": {
    "id": "oWTVX3gW_Zct"
   },
   "outputs": [
    {
     "name": "stdout",
     "output_type": "stream",
     "text": [
      "     userID                        Track            artist   genre  \\\n",
      "0  FFB692EC            Kamigata To Boots  The Mass Missile    rock   \n",
      "1  55204538  Delayed Because of Accident  Andreas Rönnberg    rock   \n",
      "2    20EC38            Funiculì funiculà       Mario Lanza     pop   \n",
      "3  A3DD03C9        Dragons in the Sunset        Fire + Ice    folk   \n",
      "4  E2DC1FAE                  Soul People        Space Echo   dance   \n",
      "5  842029A1                       Chains          Obladaet  rusrap   \n",
      "6  4CB90AA5                         True      Roman Messer   dance   \n",
      "7  F03E1C1F             Feeling This Way   Polina Griffith   dance   \n",
      "8  8FA1D3BE                     L’estate       Julia Dalia  ruspop   \n",
      "9  E772D5C0                    Pessimist               NaN   dance   \n",
      "\n",
      "        City        time        Day  \n",
      "0  Shelbyville  20:28:33  Wednesday  \n",
      "1  Springfield  14:07:09     Friday  \n",
      "2  Shelbyville  20:58:07  Wednesday  \n",
      "3  Shelbyville  08:37:09     Monday  \n",
      "4  Springfield  08:34:34     Monday  \n",
      "5  Shelbyville  13:09:41     Friday  \n",
      "6  Springfield  13:00:07  Wednesday  \n",
      "7  Springfield  20:47:49  Wednesday  \n",
      "8  Springfield  09:17:40     Friday  \n",
      "9  Shelbyville  21:20:49  Wednesday  \n"
     ]
    }
   ],
   "source": [
    "# obtenha as 10 primeiras 10 linhas da tabela df\n",
    "print(df.head(10))"
   ]
  },
  {
   "cell_type": "markdown",
   "metadata": {},
   "source": [
    "<div class=\"alert alert-block alert-success\">\n",
    "<b> Comentário do revisor: </b> <a class=\"tocSkip\"></a>\n",
    "\n",
    "O  método `head()` foi utilizado para obter as linhas iniciais do dataframe.\n",
    "</div>"
   ]
  },
  {
   "cell_type": "markdown",
   "metadata": {
    "id": "EO73Kwic_Zct"
   },
   "source": [
    "Obtenha informações gerais sobre a tabela usando um comando. Você conhece o método para exibir informações gerais que precisamos obter."
   ]
  },
  {
   "cell_type": "code",
   "execution_count": 79,
   "metadata": {
    "id": "DSf2kIb-_Zct"
   },
   "outputs": [
    {
     "name": "stdout",
     "output_type": "stream",
     "text": [
      "<class 'pandas.core.frame.DataFrame'>\n",
      "RangeIndex: 65079 entries, 0 to 65078\n",
      "Data columns (total 7 columns):\n",
      " #   Column    Non-Null Count  Dtype \n",
      "---  ------    --------------  ----- \n",
      " 0     userID  65079 non-null  object\n",
      " 1   Track     63736 non-null  object\n",
      " 2   artist    57512 non-null  object\n",
      " 3   genre     63881 non-null  object\n",
      " 4     City    65079 non-null  object\n",
      " 5   time      65079 non-null  object\n",
      " 6   Day       65079 non-null  object\n",
      "dtypes: object(7)\n",
      "memory usage: 3.5+ MB\n"
     ]
    }
   ],
   "source": [
    "# obtendo informações gerais sobre os nossos dados\n",
    "df.info()"
   ]
  },
  {
   "cell_type": "markdown",
   "metadata": {},
   "source": [
    "<div class=\"alert alert-block alert-success\">\n",
    "<b> Comentário do revisor: </b> <a class=\"tocSkip\"></a>\n",
    "\n",
    "O  método `info()` foi utilizado para mostrar informações sobre o conjunto de dados.\n",
    "</div>"
   ]
  },
  {
   "cell_type": "markdown",
   "metadata": {
    "id": "TaQ2Iwbr_Zct"
   },
   "source": [
    "Aqui estão as nossas observações sobre a tabela. Ela contém sete colunas. Elas armazenam o mesmo tipo de dado: `object`.\n",
    "\n",
    "De acordo com a documentação:\n",
    "- `' userID'` — identificação do usuário\n",
    "- `'Track'` — título da música\n",
    "- `'artist'` — nome do artista\n",
    "- `'genre'` — gênero da música\n",
    "- `'City'` — cidade do usuário\n",
    "- `'time'` — o tempo exato que a música foi reproduzida\n",
    "- `'Day'` — dia da semana\n",
    "\n",
    "Podemos ver três problemas de estilo nos cabeçalhos da tabela:\n",
    "1. Alguns cabeçalhos são escritos em letras maiúsculas, outros estão em minúsculas.\n",
    "2. Alguns cabeçalhos contêm espaços.\n",
    "\n",
    "3. *A coluna UserId possui duas palavras que poderiam estar divididas com underline (??).\n",
    "\n",
    "\n"
   ]
  },
  {
   "cell_type": "code",
   "execution_count": 80,
   "metadata": {},
   "outputs": [
    {
     "name": "stdout",
     "output_type": "stream",
     "text": [
      "  userID       0\n",
      "Track       1343\n",
      "artist      7567\n",
      "genre       1198\n",
      "  City         0\n",
      "time           0\n",
      "Day            0\n",
      "dtype: int64\n"
     ]
    }
   ],
   "source": [
    "print(df.isna().sum())"
   ]
  },
  {
   "cell_type": "markdown",
   "metadata": {
    "id": "MCB6-dXG_Zct"
   },
   "source": [
    "### Escreva suas observações. Aqui estão algumas perguntas que podem ajudar: <a id='data_review_conclusions'></a>\n",
    "\n",
    "`1.   Que tipo de dados temos nas linhas? E como podemos entender as colunas?`<br>\n",
    "*Os dados são do tipo objeto. As colunas trazem informações como identificação do usuário, títulos de músicas, gênero musical, cidade do usuário, horário e dia da semana na qual o usuário escutou a música.*\n",
    "\n",
    "`2.   Esses dados são suficientes para responder à nossa hipótese ou precisamos de mais dados?`<br>\n",
    "*A hipótese pede para verificar se a atividade dos usuários é diferente dependendo do dia da semana e da cidade. O data frame possui todos os dados necessários: gênero musical, dia da semana e cidade.*\n",
    "\n",
    "`3.   Você notou algum problema nos dados, como valores ausentes, duplicados ou tipos de dados errados`<br>\n",
    "*A coluna 'Artist' possui 1343 valores ausentes, a coluna 'artist' possui 7567 valores ausentes, a coluna 'genre' possui 1198 valores ausentes. E também existem dados duplicados, como será visto e tratado adiante.*"
   ]
  },
  {
   "cell_type": "markdown",
   "metadata": {},
   "source": [
    "<div class=\"alert alert-block alert-success\">\n",
    "<b> Comentário do revisor: </b> <a class=\"tocSkip\"></a>\n",
    "\n",
    "Boas observações! Lembre-se que essas características podem mudar a depender do problema em questão.\n",
    "</div>"
   ]
  },
  {
   "cell_type": "code",
   "execution_count": 81,
   "metadata": {},
   "outputs": [
    {
     "data": {
      "text/html": [
       "<div>\n",
       "<style scoped>\n",
       "    .dataframe tbody tr th:only-of-type {\n",
       "        vertical-align: middle;\n",
       "    }\n",
       "\n",
       "    .dataframe tbody tr th {\n",
       "        vertical-align: top;\n",
       "    }\n",
       "\n",
       "    .dataframe thead th {\n",
       "        text-align: right;\n",
       "    }\n",
       "</style>\n",
       "<table border=\"1\" class=\"dataframe\">\n",
       "  <thead>\n",
       "    <tr style=\"text-align: right;\">\n",
       "      <th></th>\n",
       "      <th>userID</th>\n",
       "      <th>Track</th>\n",
       "      <th>artist</th>\n",
       "      <th>genre</th>\n",
       "      <th>City</th>\n",
       "      <th>time</th>\n",
       "      <th>Day</th>\n",
       "    </tr>\n",
       "  </thead>\n",
       "  <tbody>\n",
       "    <tr>\n",
       "      <th>0</th>\n",
       "      <td>FFB692EC</td>\n",
       "      <td>Kamigata To Boots</td>\n",
       "      <td>The Mass Missile</td>\n",
       "      <td>rock</td>\n",
       "      <td>Shelbyville</td>\n",
       "      <td>20:28:33</td>\n",
       "      <td>Wednesday</td>\n",
       "    </tr>\n",
       "    <tr>\n",
       "      <th>1</th>\n",
       "      <td>55204538</td>\n",
       "      <td>Delayed Because of Accident</td>\n",
       "      <td>Andreas Rönnberg</td>\n",
       "      <td>rock</td>\n",
       "      <td>Springfield</td>\n",
       "      <td>14:07:09</td>\n",
       "      <td>Friday</td>\n",
       "    </tr>\n",
       "    <tr>\n",
       "      <th>2</th>\n",
       "      <td>20EC38</td>\n",
       "      <td>Funiculì funiculà</td>\n",
       "      <td>Mario Lanza</td>\n",
       "      <td>pop</td>\n",
       "      <td>Shelbyville</td>\n",
       "      <td>20:58:07</td>\n",
       "      <td>Wednesday</td>\n",
       "    </tr>\n",
       "    <tr>\n",
       "      <th>3</th>\n",
       "      <td>A3DD03C9</td>\n",
       "      <td>Dragons in the Sunset</td>\n",
       "      <td>Fire + Ice</td>\n",
       "      <td>folk</td>\n",
       "      <td>Shelbyville</td>\n",
       "      <td>08:37:09</td>\n",
       "      <td>Monday</td>\n",
       "    </tr>\n",
       "    <tr>\n",
       "      <th>4</th>\n",
       "      <td>E2DC1FAE</td>\n",
       "      <td>Soul People</td>\n",
       "      <td>Space Echo</td>\n",
       "      <td>dance</td>\n",
       "      <td>Springfield</td>\n",
       "      <td>08:34:34</td>\n",
       "      <td>Monday</td>\n",
       "    </tr>\n",
       "  </tbody>\n",
       "</table>\n",
       "</div>"
      ],
      "text/plain": [
       "     userID                        Track            artist  genre  \\\n",
       "0  FFB692EC            Kamigata To Boots  The Mass Missile   rock   \n",
       "1  55204538  Delayed Because of Accident  Andreas Rönnberg   rock   \n",
       "2    20EC38            Funiculì funiculà       Mario Lanza    pop   \n",
       "3  A3DD03C9        Dragons in the Sunset        Fire + Ice   folk   \n",
       "4  E2DC1FAE                  Soul People        Space Echo  dance   \n",
       "\n",
       "        City        time        Day  \n",
       "0  Shelbyville  20:28:33  Wednesday  \n",
       "1  Springfield  14:07:09     Friday  \n",
       "2  Shelbyville  20:58:07  Wednesday  \n",
       "3  Shelbyville  08:37:09     Monday  \n",
       "4  Springfield  08:34:34     Monday  "
      ]
     },
     "execution_count": 81,
     "metadata": {},
     "output_type": "execute_result"
    }
   ],
   "source": [
    "df.head()"
   ]
  },
  {
   "cell_type": "markdown",
   "metadata": {
    "id": "3eL__vcwViOi"
   },
   "source": [
    "[Voltar ao Índice](#back)"
   ]
  },
  {
   "cell_type": "markdown",
   "metadata": {
    "id": "SjYF6Ub9_Zct"
   },
   "source": [
    "## Etapa 2. Pré-processamento de dados <a id='data_preprocessing'></a>\n",
    "\n",
    "O objetivo aqui é preparar os dados para a análise.\n",
    "O primeiro passo é resolver todos os problemas com o cabeçalho. E então podemos passar para os valores ausentes e duplicados. Vamos começar.\n",
    "\n",
    "Corrija a formatação nos cabeçalhos da tabela.\n"
   ]
  },
  {
   "cell_type": "markdown",
   "metadata": {
    "id": "dIaKXr29_Zct"
   },
   "source": [
    "### Estilo do cabeçalho <a id='header_style'></a>\n",
    "Imprima os cabeçalhos da tabela (os nomes das colunas):"
   ]
  },
  {
   "cell_type": "code",
   "execution_count": 82,
   "metadata": {
    "id": "oKOTdF_Q_Zct"
   },
   "outputs": [
    {
     "name": "stdout",
     "output_type": "stream",
     "text": [
      "Index(['  userID', 'Track', 'artist', 'genre', '  City  ', 'time', 'Day'], dtype='object')\n"
     ]
    }
   ],
   "source": [
    "#imprima os nomes das colunas\n",
    "print(df.columns)"
   ]
  },
  {
   "cell_type": "markdown",
   "metadata": {},
   "source": [
    "<div class=\"alert alert-block alert-success\">\n",
    "<b> Comentário do revisor: </b> <a class=\"tocSkip\"></a>\n",
    "\n",
    "Os nomes das colunas do `dataframe`  foram exibidos.\n",
    "</div>\n"
   ]
  },
  {
   "cell_type": "markdown",
   "metadata": {
    "id": "zj5534cv_Zct"
   },
   "source": [
    "Mude os cabeçalhos da tabela conforme as boas práticas de estilo:\n",
    "* Todos os caracteres precisam estar com letras minúsculas\n",
    "* Exclua espaços\n",
    "* Se o nome tiver várias palavras, use snake_case"
   ]
  },
  {
   "cell_type": "markdown",
   "metadata": {
    "id": "Xu0zkfe5zNJe"
   },
   "source": [
    "Anteriormente, você aprendeu sobre uma maneira automatizada de renomear colunas. Vamos usá-la agora. Use o ciclo for para percorrer os nomes das colunas e transformar todos os caracteres em letras minúsculas. Após fazer isso, imprima os cabeçalhos da tabela novamente:"
   ]
  },
  {
   "cell_type": "code",
   "execution_count": 83,
   "metadata": {
    "id": "6I_RwwMhzM4e"
   },
   "outputs": [
    {
     "name": "stdout",
     "output_type": "stream",
     "text": [
      "Index(['  userid', 'track', 'artist', 'genre', '  city  ', 'time', 'day'], dtype='object')\n"
     ]
    }
   ],
   "source": [
    "# Percorrendo os cabeçalhos e convertendo tudo em minúsculos\n",
    "new_col_names = []\n",
    "for old_name in df.columns:\n",
    "    name_lowered = old_name.lower()\n",
    "    new_col_names.append(name_lowered)\n",
    "df.columns = new_col_names\n",
    "\n",
    "print(df.columns)"
   ]
  },
  {
   "cell_type": "markdown",
   "metadata": {},
   "source": [
    "<div class=\"alert alert-block alert-success\">\n",
    "<b> Comentário do revisor: </b> <a class=\"tocSkip\"></a>\n",
    "\n",
    "Os nomes das colunas foram convertidos para `lowercase` de forma automatizada com loops. Dica: pense em como você poderia fazer essa transformação com apenas uma linha de código.\n",
    "</div>"
   ]
  },
  {
   "cell_type": "markdown",
   "metadata": {
    "id": "pweIRxjSzPYW"
   },
   "source": [
    "Agora, usando a mesma abordagem, exclua os espaços no início e no final de cada nome de coluna e imprima os nomes das colunas novamente:"
   ]
  },
  {
   "cell_type": "code",
   "execution_count": 84,
   "metadata": {
    "id": "vVQXbFyJzSYl"
   },
   "outputs": [
    {
     "name": "stdout",
     "output_type": "stream",
     "text": [
      "Index(['userid', 'track', 'artist', 'genre', 'city', 'time', 'day'], dtype='object')\n"
     ]
    }
   ],
   "source": [
    "# Percorrendo os cabeçalhos e removendo os espaços\n",
    "new_col_names = []\n",
    "for old_name in df.columns:\n",
    "    name_stripped = old_name.strip()\n",
    "    new_col_names.append(name_stripped)\n",
    "df.columns = new_col_names\n",
    "\n",
    "print(df.columns)\n"
   ]
  },
  {
   "cell_type": "markdown",
   "metadata": {},
   "source": [
    "<div class=\"alert alert-block alert-success\">\n",
    "<b> Comentário do revisor: </b> <a class=\"tocSkip\"></a>\n",
    "\n",
    "O método `strip()` foi utilizado para remover espaços em branco da string.\n",
    "</div>"
   ]
  },
  {
   "cell_type": "markdown",
   "metadata": {
    "id": "yCb8MW1JzURd"
   },
   "source": [
    "Precisamos aplicar a regra de sublinhado no lugar de espaço à coluna `userid`. Deveria ser `user_id`. Renomeie essa coluna e imprima os nomes de todas as colunas quando terminar."
   ]
  },
  {
   "cell_type": "code",
   "execution_count": 85,
   "metadata": {
    "id": "ISlFqs5y_Zct"
   },
   "outputs": [
    {
     "name": "stdout",
     "output_type": "stream",
     "text": [
      "Index(['user_id', 'track', 'artist', 'genre', 'city', 'time', 'day'], dtype='object')\n"
     ]
    }
   ],
   "source": [
    "# Renomeando a coluna \"userid\"\n",
    "df = df.rename(columns={'userid': 'user_id'})\n",
    "print(df.columns)\n"
   ]
  },
  {
   "cell_type": "markdown",
   "metadata": {},
   "source": [
    "<div class=\"alert alert-block alert-success\">\n",
    "<b> Comentário do revisor: </b> <a class=\"tocSkip\"></a>\n",
    "\n",
    "Os nomes das colunas foram substituídos pelo padrão `snake case` (underline como separador). Sugestão: pense em com você pode fazer essa operação de forma automatizada para qualquer número de colunas.\n",
    "</div>"
   ]
  },
  {
   "cell_type": "markdown",
   "metadata": {
    "id": "1dqbh00J_Zct"
   },
   "source": [
    "Verifique o resultado. Imprima os cabeçalhos novamente:"
   ]
  },
  {
   "cell_type": "markdown",
   "metadata": {
    "id": "xYJk6ksJVpOl"
   },
   "source": [
    "[Voltar ao Índice](#back)"
   ]
  },
  {
   "cell_type": "markdown",
   "metadata": {
    "id": "5ISfbcfY_Zct"
   },
   "source": [
    "### Valores Ausentes <a id='missing_values'></a>\n",
    " Primeiro, encontre a quantidade de valores ausentes na tabela. Você precisa usar dois métodos em sequência para obter o número de valores ausentes."
   ]
  },
  {
   "cell_type": "code",
   "execution_count": 86,
   "metadata": {
    "id": "RskX29qr_Zct"
   },
   "outputs": [
    {
     "name": "stdout",
     "output_type": "stream",
     "text": [
      "user_id       0\n",
      "track      1343\n",
      "artist     7567\n",
      "genre      1198\n",
      "city          0\n",
      "time          0\n",
      "day           0\n",
      "dtype: int64\n"
     ]
    }
   ],
   "source": [
    "# calculando o número de valores ausentes\n",
    "print(df.isna().sum())"
   ]
  },
  {
   "cell_type": "markdown",
   "metadata": {},
   "source": [
    "<div class=\"alert alert-block alert-success\">\n",
    "<b> Comentário do revisor: </b> <a class=\"tocSkip\"></a>\n",
    "\n",
    "Os métodos `isna()` e `sum()` foram utilizados para agregar o número de valores ausentes por coluna do dataframe.\n",
    "</div>"
   ]
  },
  {
   "cell_type": "markdown",
   "metadata": {
    "id": "qubhgnlO_Zct"
   },
   "source": [
    "Nem todos os valores ausentes afetam a pesquisa. Por exemplo, os valores ausentes em `track` e `artist` não são críticos. Você pode simplesmente substituí-los por valores padrão, como a string `'unknown'`.\n",
    "\n",
    "Mas valores ausentes em `'genre'` podem afetar a comparação de preferências musicais de Springfield e Shelbyville. Na vida real, seria útil descobrir as razões pelas quais os dados estão ausentes e tentar corrigi-los. Mas nós não temos essa possibilidade neste projeto. Então, você terá que:\n",
    "* Preencha esses valores ausentes com um valor padrão\n",
    "* Avalie em que medida os valores ausentes podem afetar sua análise"
   ]
  },
  {
   "cell_type": "markdown",
   "metadata": {
    "id": "fSv2laPA_Zct"
   },
   "source": [
    "Substitua os valores ausentes nas colunas `'track'`, `'artist'` e `'genre'` pela string `'unknown'`. Como mostramos nas lições anteriores, a melhor maneira de fazer isso é criar uma lista para armazenar os nomes das colunas nas quais precisamos fazer a substituição. Em seguida, use essa lista e percorra as colunas nas quais a substituição seja necessária e faça a substituição."
   ]
  },
  {
   "cell_type": "code",
   "execution_count": 87,
   "metadata": {
    "id": "KplB5qWs_Zct"
   },
   "outputs": [
    {
     "name": "stdout",
     "output_type": "stream",
     "text": [
      "    user_id                        track            artist   genre  \\\n",
      "0  FFB692EC            Kamigata To Boots  The Mass Missile    rock   \n",
      "1  55204538  Delayed Because of Accident  Andreas Rönnberg    rock   \n",
      "2    20EC38            Funiculì funiculà       Mario Lanza     pop   \n",
      "3  A3DD03C9        Dragons in the Sunset        Fire + Ice    folk   \n",
      "4  E2DC1FAE                  Soul People        Space Echo   dance   \n",
      "5  842029A1                       Chains          Obladaet  rusrap   \n",
      "6  4CB90AA5                         True      Roman Messer   dance   \n",
      "7  F03E1C1F             Feeling This Way   Polina Griffith   dance   \n",
      "8  8FA1D3BE                     L’estate       Julia Dalia  ruspop   \n",
      "9  E772D5C0                    Pessimist            unknow   dance   \n",
      "\n",
      "          city      time        day  \n",
      "0  Shelbyville  20:28:33  Wednesday  \n",
      "1  Springfield  14:07:09     Friday  \n",
      "2  Shelbyville  20:58:07  Wednesday  \n",
      "3  Shelbyville  08:37:09     Monday  \n",
      "4  Springfield  08:34:34     Monday  \n",
      "5  Shelbyville  13:09:41     Friday  \n",
      "6  Springfield  13:00:07  Wednesday  \n",
      "7  Springfield  20:47:49  Wednesday  \n",
      "8  Springfield  09:17:40     Friday  \n",
      "9  Shelbyville  21:20:49  Wednesday  \n"
     ]
    }
   ],
   "source": [
    "# percorrendo os cabeçalhos e substituindo valores ausentes por 'unknown'\n",
    "columns_to_replace = df[['track','artist','genre']]\n",
    "for col in columns_to_replace:\n",
    "    df[col].fillna('unknow', inplace=True)\n",
    "\n",
    "print(df.head(10))\n",
    "    \n",
    "    "
   ]
  },
  {
   "cell_type": "markdown",
   "metadata": {},
   "source": [
    "<div class=\"alert alert-block alert-success\">\n",
    "<b> Comentário do revisor: </b> <a class=\"tocSkip\"></a>\n",
    "\n",
    "Os valores ausentes dos atributos `track`, `artist` e `genre` foram substituídos pelo valor \"unknown\" usando loop.\n",
    "</div>"
   ]
  },
  {
   "cell_type": "markdown",
   "metadata": {
    "id": "Ilsm-MZo_Zct"
   },
   "source": [
    "Agora verifique o resultado para ter certeza de que o conjunto de dados não contenha valores ausentes após a substituição. Para fazer isso, conte os valores ausentes novamente."
   ]
  },
  {
   "cell_type": "code",
   "execution_count": 88,
   "metadata": {
    "id": "Tq4nYRX4_Zct"
   },
   "outputs": [
    {
     "name": "stdout",
     "output_type": "stream",
     "text": [
      "user_id    0\n",
      "track      0\n",
      "artist     0\n",
      "genre      0\n",
      "city       0\n",
      "time       0\n",
      "day        0\n",
      "dtype: int64\n"
     ]
    }
   ],
   "source": [
    "# contando os valores ausentes\n",
    "print(df.isna().sum())"
   ]
  },
  {
   "cell_type": "markdown",
   "metadata": {},
   "source": [
    "<div class=\"alert alert-block alert-success\">\n",
    "<b> Comentário do revisor: </b> <a class=\"tocSkip\"></a>\n",
    "\n",
    "A quantidade de valores ausentes após o tratamento dos dados foi verificada.\n",
    "</div>\n"
   ]
  },
  {
   "cell_type": "markdown",
   "metadata": {
    "id": "74ZIBmq9VrsK"
   },
   "source": [
    "[Voltar ao Índice](#back)"
   ]
  },
  {
   "cell_type": "markdown",
   "metadata": {
    "id": "BWKRtBJ3_Zct"
   },
   "source": [
    "### Duplicados <a id='duplicates'></a>\n",
    "Encontre o número de duplicados explícitos na tabela. Lembre-se de que você precisa aplicar dois métodos em sequência para obter o número de duplicados explícitos."
   ]
  },
  {
   "cell_type": "code",
   "execution_count": 89,
   "metadata": {
    "id": "36eES_S0_Zct"
   },
   "outputs": [
    {
     "name": "stdout",
     "output_type": "stream",
     "text": [
      "3826\n"
     ]
    }
   ],
   "source": [
    "# contando duplicados explícitos\n",
    "print(df.duplicated().sum())"
   ]
  },
  {
   "cell_type": "markdown",
   "metadata": {
    "id": "Ot25h6XR_Zct"
   },
   "source": [
    "Agora descarte todos os duplicados. Para fazer isso, chame o método que faz exatamente isso."
   ]
  },
  {
   "cell_type": "code",
   "execution_count": 90,
   "metadata": {
    "id": "exFHq6tt_Zct"
   },
   "outputs": [],
   "source": [
    "# removendo duplicados explícitos\n",
    "df = df.drop_duplicates()"
   ]
  },
  {
   "cell_type": "markdown",
   "metadata": {
    "id": "Im2YwBEG_Zct"
   },
   "source": [
    "Agora vamos verificar se descartamos todos os duplicados. Conte duplicados explícitos mais uma vez para ter certeza de que você removeu todos eles:"
   ]
  },
  {
   "cell_type": "code",
   "execution_count": 91,
   "metadata": {
    "id": "-8PuNWQ0_Zct"
   },
   "outputs": [
    {
     "name": "stdout",
     "output_type": "stream",
     "text": [
      "0\n"
     ]
    }
   ],
   "source": [
    "# verificando duplicados novamente\n",
    "print(df.duplicated().sum())\n"
   ]
  },
  {
   "cell_type": "markdown",
   "metadata": {},
   "source": [
    "<div class=\"alert alert-block alert-success\">\n",
    "<b> Comentário do revisor: </b> <a class=\"tocSkip\"></a>\n",
    "\n",
    "Os métodos `duplicated()`, `sum()` and `drop_duplicates()` foram utilizados para encontrar o número de valores duplicados e, posteriormente, removidos do conjunto de dados.\n",
    "</div>"
   ]
  },
  {
   "cell_type": "markdown",
   "metadata": {
    "id": "QlFBsxAr_Zct"
   },
   "source": [
    "Agora queremos nos livrar dos duplicados implícitos na coluna `genre`. Por exemplo, o nome de um gênero pode ser escrito de maneiras diferentes. Alguns erros afetarão também o resultado."
   ]
  },
  {
   "cell_type": "markdown",
   "metadata": {
    "id": "eSjWwsOh_Zct"
   },
   "source": [
    "Para fazer isso, vamos começar imprimindo uma lista de nomes de gênero únicos, ordenados em ordem alfabética: Para fazer isso:\n",
    "* Extraia a coluna `genre` do DataFrame\n",
    "* Chame o método que retornará todos os valores únicos na coluna extraída\n"
   ]
  },
  {
   "cell_type": "code",
   "execution_count": 92,
   "metadata": {
    "id": "JIUcqzZN_Zct"
   },
   "outputs": [
    {
     "name": "stdout",
     "output_type": "stream",
     "text": [
      "['acid', 'acoustic', 'action', 'adult', 'africa', 'afrikaans', 'alternative', 'ambient', 'americana', 'animated', 'anime', 'arabesk', 'arabic', 'arena', 'argentinetango', 'art', 'audiobook', 'avantgarde', 'axé', 'baile', 'balkan', 'beats', 'bigroom', 'black', 'bluegrass', 'blues', 'bollywood', 'bossa', 'brazilian', 'breakbeat', 'breaks', 'broadway', 'cantautori', 'cantopop', 'canzone', 'caribbean', 'caucasian', 'celtic', 'chamber', 'children', 'chill', 'chinese', 'choral', 'christian', 'christmas', 'classical', 'classicmetal', 'club', 'colombian', 'comedy', 'conjazz', 'contemporary', 'country', 'cuban', 'dance', 'dancehall', 'dancepop', 'dark', 'death', 'deep', 'deutschrock', 'deutschspr', 'dirty', 'disco', 'dnb', 'documentary', 'downbeat', 'downtempo', 'drum', 'dub', 'dubstep', 'eastern', 'easy', 'electronic', 'electropop', 'emo', 'entehno', 'epicmetal', 'estrada', 'ethnic', 'eurofolk', 'european', 'experimental', 'extrememetal', 'fado', 'film', 'fitness', 'flamenco', 'folk', 'folklore', 'folkmetal', 'folkrock', 'folktronica', 'forró', 'frankreich', 'französisch', 'french', 'funk', 'future', 'gangsta', 'garage', 'german', 'ghazal', 'gitarre', 'glitch', 'gospel', 'gothic', 'grime', 'grunge', 'gypsy', 'handsup', \"hard'n'heavy\", 'hardcore', 'hardstyle', 'hardtechno', 'hip', 'hip-hop', 'hiphop', 'historisch', 'holiday', 'hop', 'horror', 'house', 'idm', 'independent', 'indian', 'indie', 'indipop', 'industrial', 'inspirational', 'instrumental', 'international', 'irish', 'jam', 'japanese', 'jazz', 'jewish', 'jpop', 'jungle', 'k-pop', 'karadeniz', 'karaoke', 'kayokyoku', 'korean', 'laiko', 'latin', 'latino', 'leftfield', 'local', 'lounge', 'loungeelectronic', 'lovers', 'malaysian', 'mandopop', 'marschmusik', 'meditative', 'mediterranean', 'melodic', 'metal', 'metalcore', 'mexican', 'middle', 'minimal', 'miscellaneous', 'modern', 'mood', 'mpb', 'muslim', 'native', 'neoklassik', 'neue', 'new', 'newage', 'newwave', 'nu', 'nujazz', 'numetal', 'oceania', 'old', 'opera', 'orchestral', 'other', 'piano', 'pop', 'popelectronic', 'popeurodance', 'post', 'posthardcore', 'postrock', 'power', 'progmetal', 'progressive', 'psychedelic', 'punjabi', 'punk', 'quebecois', 'ragga', 'ram', 'rancheras', 'rap', 'rave', 'reggae', 'reggaeton', 'regional', 'relax', 'religious', 'retro', 'rhythm', 'rnb', 'rnr', 'rock', 'rockabilly', 'romance', 'roots', 'ruspop', 'rusrap', 'rusrock', 'salsa', 'samba', 'schlager', 'self', 'sertanejo', 'shoegazing', 'showtunes', 'singer', 'ska', 'slow', 'smooth', 'soul', 'soulful', 'sound', 'soundtrack', 'southern', 'specialty', 'speech', 'spiritual', 'sport', 'stonerrock', 'surf', 'swing', 'synthpop', 'sängerportrait', 'tango', 'tanzorchester', 'taraftar', 'tech', 'techno', 'thrash', 'top', 'traditional', 'tradjazz', 'trance', 'tribal', 'trip', 'triphop', 'tropical', 'türk', 'türkçe', 'unknow', 'urban', 'uzbek', 'variété', 'vi', 'videogame', 'vocal', 'western', 'world', 'worldbeat', 'ïîï']\n"
     ]
    }
   ],
   "source": [
    "# visualizando nomes de gêneros únicos\n",
    "print(sorted(df['genre'].unique()))"
   ]
  },
  {
   "cell_type": "markdown",
   "metadata": {},
   "source": [
    "<div class=\"alert alert-block alert-success\">\n",
    "<b> Comentário do revisor: </b> <a class=\"tocSkip\"></a>\n",
    "\n",
    "O método `unique()` foi utilizado. Dica: você pode usar o método `nunique()` para contar a quantidade de valores distintos.\n",
    "</div>"
   ]
  },
  {
   "cell_type": "markdown",
   "metadata": {
    "id": "qej-Qmuo_Zct"
   },
   "source": [
    "Olhe a lista e encontre duplicados implícitos do gênero `hiphop`. Esses podem ser nomes escritos incorretamente, ou nomes alternativos para o mesmo gênero.\n",
    "\n",
    "Você verá os seguintes duplicados implícitos:\n",
    "* `hip`\n",
    "* `hop`\n",
    "* `hip-hop`\n",
    "\n",
    "Para se livrar deles, crie uma função `replace_wrong_genres()` com dois parâmetros:\n",
    "* `wrong_genres=` — essa é uma lista que contém todos os valores que você precisa substituir\n",
    "* `correct_genre=` — essa é uma string que você vai usar para a substituição\n",
    "\n",
    "Como resultado, a função deve corrigir os nomes na coluna `'genre'` da tabela `df`, isto é, substituindo cada valor da lista `wrong_genres` por valores de `correct_genre`.\n",
    "\n",
    "Dentro do corpo da função, use um ciclo `'for'` para percorrer a lista de gêneros errados, extrair a coluna `'genre'` e aplicar o método `replace` para fazer as correções."
   ]
  },
  {
   "cell_type": "code",
   "execution_count": 93,
   "metadata": {
    "id": "ErNDkmns_Zct"
   },
   "outputs": [],
   "source": [
    "# função para substituir duplicados implícitos\n",
    "def replace_wrong_genres(df,column,wrong_genres,correct_genre):\n",
    "    for wrong_genres in wrong_genres:\n",
    "        df['genre'] = df['genre'].replace(wrong_genres, correct_genre)\n",
    "    return df"
   ]
  },
  {
   "cell_type": "markdown",
   "metadata": {
    "id": "aDoBJxbA_Zct"
   },
   "source": [
    "Agora, chame a função `replace_wrong_genres()` e passe argumentos apropriados para que ela limpe duplicados implícitos (`hip`, `hop` e `hip-hop`) substituindo-os por `hiphop`:"
   ]
  },
  {
   "cell_type": "code",
   "execution_count": 94,
   "metadata": {
    "id": "YN5i2hpmSo09"
   },
   "outputs": [
    {
     "name": "stdout",
     "output_type": "stream",
     "text": [
      "        user_id                              track            artist  \\\n",
      "0      FFB692EC                  Kamigata To Boots  The Mass Missile   \n",
      "1      55204538        Delayed Because of Accident  Andreas Rönnberg   \n",
      "2        20EC38                  Funiculì funiculà       Mario Lanza   \n",
      "3      A3DD03C9              Dragons in the Sunset        Fire + Ice   \n",
      "4      E2DC1FAE                        Soul People        Space Echo   \n",
      "...         ...                                ...               ...   \n",
      "65074  729CBB09                            My Name            McLean   \n",
      "65075  D08D4A55  Maybe One Day (feat. Black Spade)       Blu & Exile   \n",
      "65076  C5E3A0D5                          Jalopiina            unknow   \n",
      "65077  321D0506                      Freight Train     Chas McDevitt   \n",
      "65078  3A64EF84          Tell Me Sweet Little Lies      Monica Lopez   \n",
      "\n",
      "            genre         city      time        day  \n",
      "0            rock  Shelbyville  20:28:33  Wednesday  \n",
      "1            rock  Springfield  14:07:09     Friday  \n",
      "2             pop  Shelbyville  20:58:07  Wednesday  \n",
      "3            folk  Shelbyville  08:37:09     Monday  \n",
      "4           dance  Springfield  08:34:34     Monday  \n",
      "...           ...          ...       ...        ...  \n",
      "65074         rnb  Springfield  13:32:28  Wednesday  \n",
      "65075      hiphop  Shelbyville  10:00:00     Monday  \n",
      "65076  industrial  Springfield  20:09:26     Friday  \n",
      "65077        rock  Springfield  21:43:59     Friday  \n",
      "65078     country  Springfield  21:59:46     Friday  \n",
      "\n",
      "[61253 rows x 7 columns]\n"
     ]
    }
   ],
   "source": [
    "# removendo duplicados implícitos\n",
    "wrong_values = ['hip', 'hop', 'hip-hop']\n",
    "correct_value = 'hiphop'\n",
    "df = replace_wrong_genres(df, 'genre', wrong_values, correct_value)\n",
    "print(df)"
   ]
  },
  {
   "cell_type": "markdown",
   "metadata": {},
   "source": [
    "<div class=\"alert alert-block alert-success\">\n",
    "<b> Comentário do revisor: </b> <a class=\"tocSkip\"></a>\n",
    "\n",
    "A função `replace_wrong_genres()` foi implementada para substituir valores errados por valores certos passados como argumento. Neste caso, a função padroniza valores diferentes do gênero \"hip hop\" para \"hiphop\".\n",
    "</div>"
   ]
  },
  {
   "cell_type": "markdown",
   "metadata": {
    "id": "zQKF16_RG15m"
   },
   "source": [
    "Certifique-se que os nomes duplicados foram removidos. Imprima a lista de valores únicos da coluna `'genre'` mais uma vez:"
   ]
  },
  {
   "cell_type": "code",
   "execution_count": 95,
   "metadata": {
    "id": "wvixALnFG15m"
   },
   "outputs": [
    {
     "name": "stdout",
     "output_type": "stream",
     "text": [
      "['acid', 'acoustic', 'action', 'adult', 'africa', 'afrikaans', 'alternative', 'ambient', 'americana', 'animated', 'anime', 'arabesk', 'arabic', 'arena', 'argentinetango', 'art', 'audiobook', 'avantgarde', 'axé', 'baile', 'balkan', 'beats', 'bigroom', 'black', 'bluegrass', 'blues', 'bollywood', 'bossa', 'brazilian', 'breakbeat', 'breaks', 'broadway', 'cantautori', 'cantopop', 'canzone', 'caribbean', 'caucasian', 'celtic', 'chamber', 'children', 'chill', 'chinese', 'choral', 'christian', 'christmas', 'classical', 'classicmetal', 'club', 'colombian', 'comedy', 'conjazz', 'contemporary', 'country', 'cuban', 'dance', 'dancehall', 'dancepop', 'dark', 'death', 'deep', 'deutschrock', 'deutschspr', 'dirty', 'disco', 'dnb', 'documentary', 'downbeat', 'downtempo', 'drum', 'dub', 'dubstep', 'eastern', 'easy', 'electronic', 'electropop', 'emo', 'entehno', 'epicmetal', 'estrada', 'ethnic', 'eurofolk', 'european', 'experimental', 'extrememetal', 'fado', 'film', 'fitness', 'flamenco', 'folk', 'folklore', 'folkmetal', 'folkrock', 'folktronica', 'forró', 'frankreich', 'französisch', 'french', 'funk', 'future', 'gangsta', 'garage', 'german', 'ghazal', 'gitarre', 'glitch', 'gospel', 'gothic', 'grime', 'grunge', 'gypsy', 'handsup', \"hard'n'heavy\", 'hardcore', 'hardstyle', 'hardtechno', 'hiphop', 'historisch', 'holiday', 'horror', 'house', 'idm', 'independent', 'indian', 'indie', 'indipop', 'industrial', 'inspirational', 'instrumental', 'international', 'irish', 'jam', 'japanese', 'jazz', 'jewish', 'jpop', 'jungle', 'k-pop', 'karadeniz', 'karaoke', 'kayokyoku', 'korean', 'laiko', 'latin', 'latino', 'leftfield', 'local', 'lounge', 'loungeelectronic', 'lovers', 'malaysian', 'mandopop', 'marschmusik', 'meditative', 'mediterranean', 'melodic', 'metal', 'metalcore', 'mexican', 'middle', 'minimal', 'miscellaneous', 'modern', 'mood', 'mpb', 'muslim', 'native', 'neoklassik', 'neue', 'new', 'newage', 'newwave', 'nu', 'nujazz', 'numetal', 'oceania', 'old', 'opera', 'orchestral', 'other', 'piano', 'pop', 'popelectronic', 'popeurodance', 'post', 'posthardcore', 'postrock', 'power', 'progmetal', 'progressive', 'psychedelic', 'punjabi', 'punk', 'quebecois', 'ragga', 'ram', 'rancheras', 'rap', 'rave', 'reggae', 'reggaeton', 'regional', 'relax', 'religious', 'retro', 'rhythm', 'rnb', 'rnr', 'rock', 'rockabilly', 'romance', 'roots', 'ruspop', 'rusrap', 'rusrock', 'salsa', 'samba', 'schlager', 'self', 'sertanejo', 'shoegazing', 'showtunes', 'singer', 'ska', 'slow', 'smooth', 'soul', 'soulful', 'sound', 'soundtrack', 'southern', 'specialty', 'speech', 'spiritual', 'sport', 'stonerrock', 'surf', 'swing', 'synthpop', 'sängerportrait', 'tango', 'tanzorchester', 'taraftar', 'tech', 'techno', 'thrash', 'top', 'traditional', 'tradjazz', 'trance', 'tribal', 'trip', 'triphop', 'tropical', 'türk', 'türkçe', 'unknow', 'urban', 'uzbek', 'variété', 'vi', 'videogame', 'vocal', 'western', 'world', 'worldbeat', 'ïîï']\n"
     ]
    }
   ],
   "source": [
    "# verificando valores duplicados\n",
    "print(sorted(df['genre'].unique()))"
   ]
  },
  {
   "cell_type": "markdown",
   "metadata": {
    "id": "ALgNbvF3VtPA"
   },
   "source": [
    "[Voltar ao Índice](#back)"
   ]
  },
  {
   "cell_type": "markdown",
   "metadata": {
    "id": "jz6a9-7HQUDd"
   },
   "source": [
    "### Suas observações <a id='data_preprocessing_conclusions'></a>\n",
    "\n",
    "` Descreva brevemente o que você reparou ao analisar duplicados, bem como a abordagem que usou para eliminá-los e os resultados que alcançou.`\n",
    "\n",
    "*Existiam valores duplicados que poderiam interferir no resultado final da pesquisa. Para encontrar os duplicados explícitos ou seja as linhas idênticas utilizei o método duplicated(), e para removê-los utilizei o método drop_duplicates(). Já para verificar os dados duplicados implícitos, ou seja, os valores não idênticos mas que possuem o mesmo significado,  utilizei o método unique(). Para resolver este, criei uma função utilizando o método replace() e atribuindo o resultado ao data frame em questão.*"
   ]
  },
  {
   "cell_type": "markdown",
   "metadata": {
    "id": "eK1es74rVujj"
   },
   "source": [
    "[Voltar ao Índice](#back)"
   ]
  },
  {
   "cell_type": "markdown",
   "metadata": {
    "id": "WttZHXH0SqKk"
   },
   "source": [
    "## Etapa 3. Teste da hipótese <a id='hypothesis'></a>"
   ]
  },
  {
   "cell_type": "markdown",
   "metadata": {
    "id": "Im936VVi_Zcu"
   },
   "source": [
    "### Hipótese: comparação do comportamento dos usuários nas duas cidades <a id='activity'></a>"
   ]
  },
  {
   "cell_type": "markdown",
   "metadata": {
    "id": "nwt_MuaL_Zcu"
   },
   "source": [
    "A hipótese afirma que existem diferenças no consumo de música pelos usuários em Springfield e em Shelbyville. Para testar a hipótese, use os dados dos três dias da semana: segunda-feira (Monday), quarta-feira (Wednesday) e sexta-feira (Friday).\n",
    "\n",
    "* Agrupe os usuários por cidade.\n",
    "* Compare o número de músicas tocadas por cada grupo na segunda, quarta e sexta.\n"
   ]
  },
  {
   "cell_type": "markdown",
   "metadata": {
    "id": "8Dw_YMmT_Zcu"
   },
   "source": [
    "Execute cada cálculo separadamente.\n",
    "\n",
    "O primeiro passo é avaliar a atividade dos usuários em cada cidade. Não se esqueça das etapas \"divisão-aplicação-combinação\" sobre as quais falamos anteriormente na lição. Agora seu objetivo é agrupar os dados por cidade, aplicar o método de contagem apropriado durante a etapa de aplicação e então encontrar o número de músicas tocadas por cada grupo, especificando a coluna para a qual você quer obter a contagem.\n",
    "\n",
    "Veja um exemplo de como o resultado final deve ser:\n",
    "`df.groupby(by='....')['column'].method()` Execute cada cálculo separadamente.\n",
    "\n",
    "Para avaliar a atividade dos usuários em cada cidade, agrupe os dados por cidade e encontre o número de músicas reproduzidas em cada grupo.\n",
    "\n"
   ]
  },
  {
   "cell_type": "code",
   "execution_count": 96,
   "metadata": {
    "id": "0_Qs96oh_Zcu"
   },
   "outputs": [
    {
     "name": "stdout",
     "output_type": "stream",
     "text": [
      "city\n",
      "Shelbyville    18512\n",
      "Springfield    42741\n",
      "Name: track, dtype: int64\n"
     ]
    }
   ],
   "source": [
    "# Contando as músicas tocadas em cada cidade\n",
    "print(df.groupby(by='city')['track'].count())"
   ]
  },
  {
   "cell_type": "markdown",
   "metadata": {
    "id": "t_Qx-3NewAnK"
   },
   "source": [
    "`Comente sobre suas observações aqui`<br>\n",
    "*É possível perceber que reproduziram mais músicas em Springfield. Mais que o dobro.*"
   ]
  },
  {
   "cell_type": "markdown",
   "metadata": {},
   "source": [
    "<div class=\"alert alert-block alert-success\">\n",
    "<b> Comentário do revisor: </b> <a class=\"tocSkip\"></a>\n",
    "\n",
    "A contagem do número de músicas tocadas por cidade foi executada.\n",
    "</div>"
   ]
  },
  {
   "cell_type": "markdown",
   "metadata": {
    "id": "dzli3w8o_Zcu"
   },
   "source": [
    "Agora vamos agrupar os dados por dia da semana e encontrar a quantidade de músicas tocadas na segunda, quarta e sexta-feira. Use a mesma abordagem que antes, mas agora precisamos agrupar os dados de uma forma diferente.\n"
   ]
  },
  {
   "cell_type": "code",
   "execution_count": 97,
   "metadata": {
    "id": "uZMKjiJz_Zcu"
   },
   "outputs": [
    {
     "name": "stdout",
     "output_type": "stream",
     "text": [
      "day\n",
      "Friday       21840\n",
      "Monday       21354\n",
      "Wednesday    18059\n",
      "Name: track, dtype: int64\n"
     ]
    }
   ],
   "source": [
    "# Calculando as músicas escutadas em cada um desses três dias\n",
    "print(df.groupby(by='day')['track'].count())"
   ]
  },
  {
   "cell_type": "markdown",
   "metadata": {
    "id": "cC2tNrlL_Zcu"
   },
   "source": [
    "`Comente sobre suas observações aqui`<br>\n",
    "*É possível notar que reproduziram mais músicas na sexta-feira, seguido pela segunda-feira. E na quarta-feira é o dia que menos houve reproduções*."
   ]
  },
  {
   "cell_type": "markdown",
   "metadata": {},
   "source": [
    "<div class=\"alert alert-block alert-success\">\n",
    "<b> Comentário do revisor: </b> <a class=\"tocSkip\"></a>\n",
    "\n",
    "A contagem do número de músicas tocadas por dia foi executada.\n",
    "</div>"
   ]
  },
  {
   "cell_type": "markdown",
   "metadata": {
    "id": "POzs8bGa_Zcu"
   },
   "source": [
    "Você acabou de aprender como contar entradas agrupando-as por cidade ou por dia. E agora você precisa escrever uma função que possa contar entradas simultaneamente com base em ambos os critérios.\n",
    "\n",
    "Crie a função `number_tracks()` para calcular o número de músicas tocadas em um determinado dia **e** em uma determinada cidade. A função deve aceitar dois parâmetros:\n",
    "\n",
    "- `day`: um dia da semana pelo qual precisamos filtrar os dados. Por exemplo, `'Monday'`.\n",
    "- `city`: uma cidade pela qual precisamos filtrar os dados. Por exemplo, `'Springfield'`.\n",
    "\n",
    "Dentro da função, você vai aplicar uma filtragem consecutiva com indexação lógica.\n",
    "\n",
    "Primeiro, filtre os dados por dia e então filtre a tabela resultante por cidade.\n",
    "\n",
    "Depois de filtrar os dados usando os dois critérios, conte o número de valores na coluna 'user_id' da tabela resultante. O resultado da contagem representará o número de entradas que você quer encontrar. Armazene o resultado em uma nova variável e imprima-o."
   ]
  },
  {
   "cell_type": "code",
   "execution_count": 98,
   "metadata": {
    "id": "Nz3GdQB1_Zcu"
   },
   "outputs": [],
   "source": [
    "# Declare a função number_tracks() com dois parâmetros: day= e city=.\n",
    "def number_tracks(day, city):\n",
    "# Armazene as linhas do DataFrame em que o valor na coluna 'day' é igual ao parâmetro day=\n",
    "    filter_day = df[df['day'] == day]\n",
    "# Filtre as linhas em que o valor na coluna 'city' é igual ao parâmetro city=\n",
    "    filter_city = filter_day[filter_day['city'] == city]\n",
    "# Extraia a coluna 'user_id' da tabela filtrada e aplique o método count()\n",
    "    filter_id = filter_city['user_id'].count()\n",
    "# Retorne o número dos valores da coluna 'user_id'\n",
    "    return filter_id    "
   ]
  },
  {
   "cell_type": "markdown",
   "metadata": {},
   "source": [
    "<div class=\"alert alert-block alert-success\">\n",
    "<b> Comentário do revisor: </b> <a class=\"tocSkip\"></a>\n",
    "\n",
    "A função `number_tracks()` foi implementada corretamente para calcular o número de músicas tocadas com diferentes filtros.\n",
    "</div>"
   ]
  },
  {
   "cell_type": "markdown",
   "metadata": {
    "id": "ytf7xFrFJQ2r"
   },
   "source": [
    "Chame a função `number_tracks()` seis vezes, mudando os valores dos parâmetros, para que você possa recuperar os dados de ambas as cidades para cada um dos três dias."
   ]
  },
  {
   "cell_type": "code",
   "execution_count": 99,
   "metadata": {
    "id": "rJcRATNQ_Zcu"
   },
   "outputs": [
    {
     "name": "stdout",
     "output_type": "stream",
     "text": [
      "15740\n"
     ]
    }
   ],
   "source": [
    "# a quantidade de músicas tocadas em Springfield na segunda-feira\n",
    "springfield_monday = number_tracks('Monday', 'Springfield')\n",
    "print(springfield_monday)"
   ]
  },
  {
   "cell_type": "code",
   "execution_count": 100,
   "metadata": {
    "id": "hq_ncZ5T_Zcu"
   },
   "outputs": [
    {
     "name": "stdout",
     "output_type": "stream",
     "text": [
      "5614\n"
     ]
    }
   ],
   "source": [
    "# a quantidade de músicas tocadas em Shelbyville na segunda-feira\n",
    "shelbyville_monday = number_tracks('Monday', 'Shelbyville')\n",
    "print(shelbyville_monday)"
   ]
  },
  {
   "cell_type": "code",
   "execution_count": 101,
   "metadata": {
    "id": "_NTy2VPU_Zcu"
   },
   "outputs": [
    {
     "name": "stdout",
     "output_type": "stream",
     "text": [
      "11056\n"
     ]
    }
   ],
   "source": [
    "# a quantidade de músicas tocadas em Springfield na quarta-feira\n",
    "springfield_wednesday = number_tracks('Wednesday', 'Springfield')\n",
    "print(springfield_wednesday)"
   ]
  },
  {
   "cell_type": "code",
   "execution_count": 102,
   "metadata": {
    "id": "j2y3TAwo_Zcu"
   },
   "outputs": [
    {
     "name": "stdout",
     "output_type": "stream",
     "text": [
      "7003\n"
     ]
    }
   ],
   "source": [
    "# a quantidade de músicas tocadas em Shelbyville na quarta-feira\n",
    "shelbyville_wednesday = number_tracks('Wednesday', 'Shelbyville')\n",
    "print(shelbyville_wednesday)"
   ]
  },
  {
   "cell_type": "code",
   "execution_count": 103,
   "metadata": {
    "id": "vYDw5u_K_Zcu"
   },
   "outputs": [
    {
     "name": "stdout",
     "output_type": "stream",
     "text": [
      "15945\n"
     ]
    }
   ],
   "source": [
    "# a quantidade de músicas tocadas em Springfield na sexta-feira\n",
    "springfield_friday = number_tracks('Friday', 'Springfield')\n",
    "print(springfield_friday)"
   ]
  },
  {
   "cell_type": "code",
   "execution_count": 104,
   "metadata": {
    "id": "8_yzFtW3_Zcu"
   },
   "outputs": [
    {
     "name": "stdout",
     "output_type": "stream",
     "text": [
      "5895\n"
     ]
    }
   ],
   "source": [
    "# a quantidade de músicas tocadas em Shelbyville na sexta-feira\n",
    "shelbyville_friday = number_tracks('Friday', 'Shelbyville')\n",
    "print(shelbyville_friday)"
   ]
  },
  {
   "cell_type": "markdown",
   "metadata": {
    "id": "-EgPIHYu_Zcu"
   },
   "source": [
    "**Conclusões**\n",
    "\n",
    "`Comente sobre se a terceira hipótese está correta ou deve ser rejeitada. Explique seu raciocínio.`<br>\n",
    "*A hipótese afirmava que existiam diferenças no consumo de música pelos usuários em Springfield e em Shelbyville dependendo do dia da semana. De fato, ao observar os dados percebe-se que o número de ouvintes de Springfield é maior na sexta-feira (15945), enquanto o número de ouvintes de Shelbyville é maior na quarta-feira(7003).*"
   ]
  },
  {
   "cell_type": "markdown",
   "metadata": {},
   "source": [
    "<div class=\"alert alert-block alert-success\">\n",
    "<b> Comentário do revisor: </b> <a class=\"tocSkip\"></a>\n",
    "\n",
    "- A função `number_tracks()` foi chamada corretamente.\n",
    "- A conclusão foi apresentada.\n",
    "</div>"
   ]
  },
  {
   "cell_type": "markdown",
   "metadata": {
    "id": "p7nFQajCVw5B"
   },
   "source": [
    "[Voltar ao Índice](#back)"
   ]
  },
  {
   "cell_type": "markdown",
   "metadata": {
    "id": "ykKQ0N65_Zcv"
   },
   "source": [
    "# Conclusões <a id='end'></a>"
   ]
  },
  {
   "cell_type": "markdown",
   "metadata": {
    "id": "tjUwbHb3_Zcv"
   },
   "source": [
    "`Resuma suas conclusões sobre a hipótese aqui`<br>\n",
    "*Através dos dados obtidos pode-se constatar algumas situações:<br>\n",
    "O número de usuários que acessam o serviço de músicas é maior em Springfield que em Shelbyville.<br>\n",
    "Os usuários de Springfield apresentam uma tendência maior de acessarem músicas na sexta-feira, enquanto os usuários de Shelbyville preferem a quarta-feira. <br>Não foi analisado qual é o gênero musical mais ouvido em cada uma das cidades. <br>De qualquer forma, com os dados analisados, já é possível constatar que a atividade dos usuários é diferente dependendo do dia da semana e da cidade.*\n"
   ]
  },
  {
   "cell_type": "markdown",
   "metadata": {
    "id": "azLHu64yOIp7"
   },
   "source": [
    "### Importante\n",
    "Em projetos de pesquisas reais, o teste estatístico de hipóteses é mais preciso e quantitativo. Observe também que conclusões sobre uma cidade inteira nem sempre podem ser tiradas a partir de dados de apenas uma fonte.\n",
    "\n",
    "Você aprenderá mais sobre testes de hipóteses no sprint sobre a análise estatística de dados."
   ]
  },
  {
   "cell_type": "markdown",
   "metadata": {
    "id": "Ju4AHDSgV1FE"
   },
   "source": [
    "[Voltar ao Índice](#back)"
   ]
  }
 ],
 "metadata": {
  "ExecuteTimeLog": [
   {
    "duration": 300,
    "start_time": "2024-10-22T21:40:15.496Z"
   },
   {
    "duration": 117,
    "start_time": "2024-10-22T21:40:19.620Z"
   },
   {
    "duration": 7,
    "start_time": "2024-10-22T21:40:40.551Z"
   },
   {
    "duration": 21,
    "start_time": "2024-10-22T21:45:12.628Z"
   },
   {
    "duration": 92,
    "start_time": "2024-10-22T21:45:23.796Z"
   },
   {
    "duration": 21,
    "start_time": "2024-10-22T21:45:34.246Z"
   },
   {
    "duration": 81,
    "start_time": "2024-10-22T22:23:37.431Z"
   },
   {
    "duration": 20,
    "start_time": "2024-10-22T22:28:21.028Z"
   },
   {
    "duration": 25,
    "start_time": "2024-10-22T22:30:41.762Z"
   },
   {
    "duration": 24,
    "start_time": "2024-10-22T22:34:51.069Z"
   },
   {
    "duration": 60,
    "start_time": "2024-10-22T22:39:03.871Z"
   },
   {
    "duration": 39,
    "start_time": "2024-10-22T22:39:34.660Z"
   },
   {
    "duration": 176,
    "start_time": "2024-10-22T22:52:29.714Z"
   },
   {
    "duration": 12,
    "start_time": "2024-10-22T22:52:51.922Z"
   },
   {
    "duration": 14,
    "start_time": "2024-10-22T22:53:09.385Z"
   },
   {
    "duration": 3,
    "start_time": "2024-10-22T22:54:34.703Z"
   },
   {
    "duration": 3,
    "start_time": "2024-10-22T23:00:07.662Z"
   },
   {
    "duration": 3,
    "start_time": "2024-10-22T23:01:52.550Z"
   },
   {
    "duration": 8,
    "start_time": "2024-10-22T23:05:36.687Z"
   },
   {
    "duration": 3,
    "start_time": "2024-10-22T23:06:15.818Z"
   },
   {
    "duration": 32,
    "start_time": "2024-10-22T23:09:34.505Z"
   },
   {
    "duration": 3,
    "start_time": "2024-10-22T23:10:27.473Z"
   },
   {
    "duration": 3,
    "start_time": "2024-10-22T23:14:27.549Z"
   },
   {
    "duration": 3,
    "start_time": "2024-10-22T23:14:37.877Z"
   },
   {
    "duration": 3,
    "start_time": "2024-10-22T23:15:09.021Z"
   },
   {
    "duration": 6,
    "start_time": "2024-10-22T23:15:30.333Z"
   },
   {
    "duration": 8,
    "start_time": "2024-10-22T23:15:38.920Z"
   },
   {
    "duration": 7,
    "start_time": "2024-10-22T23:15:48.008Z"
   },
   {
    "duration": 13,
    "start_time": "2024-10-23T00:20:53.221Z"
   },
   {
    "duration": 17,
    "start_time": "2024-10-23T00:21:18.339Z"
   },
   {
    "duration": 7,
    "start_time": "2024-10-23T00:37:18.619Z"
   },
   {
    "duration": 14,
    "start_time": "2024-10-23T00:42:14.576Z"
   },
   {
    "duration": 17,
    "start_time": "2024-10-23T00:42:32.304Z"
   },
   {
    "duration": 15,
    "start_time": "2024-10-23T00:42:54.441Z"
   },
   {
    "duration": 14,
    "start_time": "2024-10-23T00:43:25.615Z"
   },
   {
    "duration": 17,
    "start_time": "2024-10-23T00:43:46.456Z"
   },
   {
    "duration": 43,
    "start_time": "2024-10-23T00:46:57.670Z"
   },
   {
    "duration": 78,
    "start_time": "2024-10-23T00:47:50.473Z"
   },
   {
    "duration": 40,
    "start_time": "2024-10-23T00:48:00.084Z"
   },
   {
    "duration": 198,
    "start_time": "2024-10-23T00:48:54.684Z"
   },
   {
    "duration": 6,
    "start_time": "2024-10-23T00:50:32.123Z"
   },
   {
    "duration": 47,
    "start_time": "2024-10-23T00:56:58.295Z"
   },
   {
    "duration": 11,
    "start_time": "2024-10-23T00:57:22.344Z"
   },
   {
    "duration": 41,
    "start_time": "2024-10-23T00:58:16.442Z"
   },
   {
    "duration": 12,
    "start_time": "2024-10-23T00:58:48.491Z"
   },
   {
    "duration": 5,
    "start_time": "2024-10-23T00:59:31.285Z"
   },
   {
    "duration": 4,
    "start_time": "2024-10-23T00:59:38.549Z"
   },
   {
    "duration": 6,
    "start_time": "2024-10-23T01:00:00.971Z"
   },
   {
    "duration": 16,
    "start_time": "2024-10-23T01:00:45.354Z"
   },
   {
    "duration": 6,
    "start_time": "2024-10-23T01:00:55.347Z"
   },
   {
    "duration": 3,
    "start_time": "2024-10-23T01:01:16.682Z"
   },
   {
    "duration": 9,
    "start_time": "2024-10-23T01:01:26.094Z"
   },
   {
    "duration": 5,
    "start_time": "2024-10-23T01:02:12.866Z"
   },
   {
    "duration": 5,
    "start_time": "2024-10-23T01:03:59.672Z"
   },
   {
    "duration": 18,
    "start_time": "2024-10-23T01:04:21.229Z"
   },
   {
    "duration": 6,
    "start_time": "2024-10-23T01:10:03.564Z"
   },
   {
    "duration": 5,
    "start_time": "2024-10-23T01:16:43.509Z"
   },
   {
    "duration": 4,
    "start_time": "2024-10-23T01:29:41.858Z"
   },
   {
    "duration": 11,
    "start_time": "2024-10-23T01:34:34.944Z"
   },
   {
    "duration": 5,
    "start_time": "2024-10-23T01:35:04.937Z"
   },
   {
    "duration": 154,
    "start_time": "2024-10-23T14:02:46.667Z"
   },
   {
    "duration": 326,
    "start_time": "2024-10-23T14:03:18.621Z"
   },
   {
    "duration": 107,
    "start_time": "2024-10-23T14:03:18.948Z"
   },
   {
    "duration": 7,
    "start_time": "2024-10-23T14:03:19.058Z"
   },
   {
    "duration": 20,
    "start_time": "2024-10-23T14:03:19.067Z"
   },
   {
    "duration": 28,
    "start_time": "2024-10-23T14:03:19.089Z"
   },
   {
    "duration": 11,
    "start_time": "2024-10-23T14:03:48.253Z"
   },
   {
    "duration": 6,
    "start_time": "2024-10-23T14:06:44.321Z"
   },
   {
    "duration": 36,
    "start_time": "2024-10-23T14:07:35.520Z"
   },
   {
    "duration": 7,
    "start_time": "2024-10-23T14:07:46.469Z"
   },
   {
    "duration": 15,
    "start_time": "2024-10-23T14:08:09.413Z"
   },
   {
    "duration": 15,
    "start_time": "2024-10-23T14:09:19.122Z"
   },
   {
    "duration": 14,
    "start_time": "2024-10-23T14:10:20.508Z"
   },
   {
    "duration": 153,
    "start_time": "2024-10-23T20:02:22.257Z"
   },
   {
    "duration": 294,
    "start_time": "2024-10-23T20:02:36.861Z"
   },
   {
    "duration": 108,
    "start_time": "2024-10-23T20:02:37.157Z"
   },
   {
    "duration": 7,
    "start_time": "2024-10-23T20:02:37.266Z"
   },
   {
    "duration": 19,
    "start_time": "2024-10-23T20:02:37.274Z"
   },
   {
    "duration": 23,
    "start_time": "2024-10-23T20:02:37.296Z"
   },
   {
    "duration": 11,
    "start_time": "2024-10-23T20:02:37.321Z"
   },
   {
    "duration": 2,
    "start_time": "2024-10-23T20:02:37.335Z"
   },
   {
    "duration": 4,
    "start_time": "2024-10-23T20:02:37.339Z"
   },
   {
    "duration": 5,
    "start_time": "2024-10-23T20:02:37.344Z"
   },
   {
    "duration": 7,
    "start_time": "2024-10-23T20:02:37.350Z"
   },
   {
    "duration": 48,
    "start_time": "2024-10-23T20:02:37.359Z"
   },
   {
    "duration": 14,
    "start_time": "2024-10-23T20:02:37.408Z"
   },
   {
    "duration": 15,
    "start_time": "2024-10-23T20:02:37.424Z"
   },
   {
    "duration": 40,
    "start_time": "2024-10-23T20:02:37.443Z"
   },
   {
    "duration": 45,
    "start_time": "2024-10-23T20:02:37.505Z"
   },
   {
    "duration": 37,
    "start_time": "2024-10-23T20:02:37.551Z"
   },
   {
    "duration": 18,
    "start_time": "2024-10-23T20:02:37.590Z"
   },
   {
    "duration": 3,
    "start_time": "2024-10-23T20:02:37.609Z"
   },
   {
    "duration": 12,
    "start_time": "2024-10-23T20:02:37.614Z"
   },
   {
    "duration": 5,
    "start_time": "2024-10-23T20:02:37.628Z"
   },
   {
    "duration": 22,
    "start_time": "2024-10-23T20:02:39.831Z"
   },
   {
    "duration": 35,
    "start_time": "2024-10-23T20:04:32.044Z"
   },
   {
    "duration": 8,
    "start_time": "2024-10-23T20:04:42.363Z"
   },
   {
    "duration": 141,
    "start_time": "2024-10-23T20:06:57.387Z"
   },
   {
    "duration": 9,
    "start_time": "2024-10-23T20:07:24.198Z"
   },
   {
    "duration": 8,
    "start_time": "2024-10-23T20:15:56.247Z"
   },
   {
    "duration": 37,
    "start_time": "2024-10-23T20:19:31.045Z"
   },
   {
    "duration": 9,
    "start_time": "2024-10-23T20:19:51.419Z"
   },
   {
    "duration": 10,
    "start_time": "2024-10-23T20:20:43.220Z"
   },
   {
    "duration": 5,
    "start_time": "2024-10-23T20:20:55.673Z"
   },
   {
    "duration": 9,
    "start_time": "2024-10-23T20:21:04.563Z"
   },
   {
    "duration": 5,
    "start_time": "2024-10-23T20:53:46.055Z"
   },
   {
    "duration": 5,
    "start_time": "2024-10-23T20:54:58.291Z"
   },
   {
    "duration": 5,
    "start_time": "2024-10-23T20:55:15.576Z"
   },
   {
    "duration": 4,
    "start_time": "2024-10-23T20:55:27.657Z"
   },
   {
    "duration": 5,
    "start_time": "2024-10-23T20:56:21.072Z"
   },
   {
    "duration": 4,
    "start_time": "2024-10-23T20:58:30.865Z"
   },
   {
    "duration": 3,
    "start_time": "2024-10-23T21:00:13.757Z"
   },
   {
    "duration": 398,
    "start_time": "2024-10-23T21:03:46.114Z"
   },
   {
    "duration": 4,
    "start_time": "2024-10-23T21:04:02.865Z"
   },
   {
    "duration": 97,
    "start_time": "2024-10-23T21:04:02.871Z"
   },
   {
    "duration": 6,
    "start_time": "2024-10-23T21:04:02.970Z"
   },
   {
    "duration": 28,
    "start_time": "2024-10-23T21:04:02.978Z"
   },
   {
    "duration": 24,
    "start_time": "2024-10-23T21:04:03.008Z"
   },
   {
    "duration": 9,
    "start_time": "2024-10-23T21:04:03.033Z"
   },
   {
    "duration": 3,
    "start_time": "2024-10-23T21:04:03.044Z"
   },
   {
    "duration": 4,
    "start_time": "2024-10-23T21:04:03.049Z"
   },
   {
    "duration": 4,
    "start_time": "2024-10-23T21:04:03.056Z"
   },
   {
    "duration": 46,
    "start_time": "2024-10-23T21:04:03.061Z"
   },
   {
    "duration": 19,
    "start_time": "2024-10-23T21:04:03.109Z"
   },
   {
    "duration": 16,
    "start_time": "2024-10-23T21:04:03.130Z"
   },
   {
    "duration": 23,
    "start_time": "2024-10-23T21:04:03.147Z"
   },
   {
    "duration": 83,
    "start_time": "2024-10-23T21:04:03.173Z"
   },
   {
    "duration": 65,
    "start_time": "2024-10-23T21:04:03.258Z"
   },
   {
    "duration": 37,
    "start_time": "2024-10-23T21:04:03.325Z"
   },
   {
    "duration": 5,
    "start_time": "2024-10-23T21:04:03.364Z"
   },
   {
    "duration": 4,
    "start_time": "2024-10-23T21:04:03.371Z"
   },
   {
    "duration": 34,
    "start_time": "2024-10-23T21:04:03.376Z"
   },
   {
    "duration": 5,
    "start_time": "2024-10-23T21:04:03.412Z"
   },
   {
    "duration": 14,
    "start_time": "2024-10-23T21:04:03.419Z"
   },
   {
    "duration": 11,
    "start_time": "2024-10-23T21:04:03.435Z"
   },
   {
    "duration": 3,
    "start_time": "2024-10-23T21:04:03.448Z"
   },
   {
    "duration": 58,
    "start_time": "2024-10-23T21:04:13.200Z"
   },
   {
    "duration": 3,
    "start_time": "2024-10-23T21:05:32.519Z"
   },
   {
    "duration": 7,
    "start_time": "2024-10-23T21:05:56.313Z"
   },
   {
    "duration": 3,
    "start_time": "2024-10-23T21:07:11.194Z"
   },
   {
    "duration": 4,
    "start_time": "2024-10-23T21:15:32.457Z"
   },
   {
    "duration": 60,
    "start_time": "2024-10-23T21:16:18.656Z"
   },
   {
    "duration": 51,
    "start_time": "2024-10-23T21:17:03.335Z"
   },
   {
    "duration": 51,
    "start_time": "2024-10-23T21:19:13.697Z"
   },
   {
    "duration": 50,
    "start_time": "2024-10-23T21:19:39.480Z"
   },
   {
    "duration": 45,
    "start_time": "2024-10-23T21:23:08.717Z"
   },
   {
    "duration": 4,
    "start_time": "2024-10-23T21:35:14.726Z"
   },
   {
    "duration": 85,
    "start_time": "2024-10-23T21:35:53.254Z"
   },
   {
    "duration": 2,
    "start_time": "2024-10-23T21:37:54.614Z"
   },
   {
    "duration": 105,
    "start_time": "2024-10-23T21:37:54.622Z"
   },
   {
    "duration": 10,
    "start_time": "2024-10-23T21:37:54.730Z"
   },
   {
    "duration": 22,
    "start_time": "2024-10-23T21:37:54.742Z"
   },
   {
    "duration": 16,
    "start_time": "2024-10-23T21:37:54.766Z"
   },
   {
    "duration": 10,
    "start_time": "2024-10-23T21:37:54.806Z"
   },
   {
    "duration": 3,
    "start_time": "2024-10-23T21:37:54.817Z"
   },
   {
    "duration": 3,
    "start_time": "2024-10-23T21:37:54.822Z"
   },
   {
    "duration": 4,
    "start_time": "2024-10-23T21:37:54.827Z"
   },
   {
    "duration": 5,
    "start_time": "2024-10-23T21:37:54.833Z"
   },
   {
    "duration": 16,
    "start_time": "2024-10-23T21:37:54.839Z"
   },
   {
    "duration": 51,
    "start_time": "2024-10-23T21:37:54.857Z"
   },
   {
    "duration": 17,
    "start_time": "2024-10-23T21:37:54.911Z"
   },
   {
    "duration": 41,
    "start_time": "2024-10-23T21:37:54.931Z"
   },
   {
    "duration": 66,
    "start_time": "2024-10-23T21:37:54.976Z"
   },
   {
    "duration": 46,
    "start_time": "2024-10-23T21:37:55.044Z"
   },
   {
    "duration": 14,
    "start_time": "2024-10-23T21:37:55.092Z"
   },
   {
    "duration": 3,
    "start_time": "2024-10-23T21:37:55.108Z"
   },
   {
    "duration": 11,
    "start_time": "2024-10-23T21:37:55.113Z"
   },
   {
    "duration": 7,
    "start_time": "2024-10-23T21:37:55.126Z"
   },
   {
    "duration": 8,
    "start_time": "2024-10-23T21:37:55.135Z"
   },
   {
    "duration": 9,
    "start_time": "2024-10-23T21:37:55.145Z"
   },
   {
    "duration": 3,
    "start_time": "2024-10-23T21:37:55.155Z"
   },
   {
    "duration": 15,
    "start_time": "2024-10-23T21:38:03.333Z"
   },
   {
    "duration": 16,
    "start_time": "2024-10-23T21:39:48.114Z"
   },
   {
    "duration": 12,
    "start_time": "2024-10-23T21:40:38.265Z"
   },
   {
    "duration": 12,
    "start_time": "2024-10-23T21:41:15.353Z"
   },
   {
    "duration": 14,
    "start_time": "2024-10-23T21:42:02.264Z"
   },
   {
    "duration": 14,
    "start_time": "2024-10-23T21:42:33.432Z"
   }
  ],
  "colab": {
   "collapsed_sections": [
    "E0vqbgi9ay0H",
    "VUC88oWjTJw2"
   ],
   "provenance": []
  },
  "kernelspec": {
   "display_name": "Python 3 (ipykernel)",
   "language": "python",
   "name": "python3"
  },
  "language_info": {
   "codemirror_mode": {
    "name": "ipython",
    "version": 3
   },
   "file_extension": ".py",
   "mimetype": "text/x-python",
   "name": "python",
   "nbconvert_exporter": "python",
   "pygments_lexer": "ipython3",
   "version": "3.9.19"
  },
  "toc": {
   "base_numbering": 1,
   "nav_menu": {},
   "number_sections": true,
   "sideBar": true,
   "skip_h1_title": true,
   "title_cell": "Table of Contents",
   "title_sidebar": "Contents",
   "toc_cell": false,
   "toc_position": {},
   "toc_section_display": true,
   "toc_window_display": false
  }
 },
 "nbformat": 4,
 "nbformat_minor": 1
}
